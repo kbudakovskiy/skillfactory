{
 "cells": [
  {
   "cell_type": "markdown",
   "metadata": {},
   "source": [
    "### Ordered Dict case usage "
   ]
  },
  {
   "cell_type": "markdown",
   "metadata": {},
   "source": [
    "Given a list of tuples ratings, where each tuple contains the name and rating of the cafe.\n",
    "You need to sort the list in descending order of rating. If the ratings are the same, then the cafes should be additionally sorted in alphabetical order.\n",
    "After sorting, create an ordered dictionary cafes using the collections module. The keys should be the names of the cafes, and the values ​​should be their ratings."
   ]
  },
  {
   "cell_type": "code",
   "execution_count": 10,
   "metadata": {},
   "outputs": [],
   "source": [
    "ratings = [\n",
    "('Old York', 3.3), ('New Age', 4.6), ('Old Gold', 3.3), ('General Foods', 4.8),\n",
    "('Belissimo', 4.5), ('CakeAndCoffee', 4.2), ('CakeOClock', 4.2), ('CakeTime', 4.1),\n",
    "('WokToWork', 4.9), ('WokAndRice', 4.9), ('Old Wine Cellar', 3.3), ('Nice Cakes', 3.9)\n",
    "]"
   ]
  },
  {
   "cell_type": "code",
   "execution_count": 11,
   "metadata": {},
   "outputs": [],
   "source": [
    "from collections import OrderedDict"
   ]
  },
  {
   "cell_type": "code",
   "execution_count": 17,
   "metadata": {},
   "outputs": [
    {
     "data": {
      "text/plain": [
       "OrderedDict([('WokAndRice', 4.9),\n",
       "             ('WokToWork', 4.9),\n",
       "             ('General Foods', 4.8),\n",
       "             ('New Age', 4.6),\n",
       "             ('Belissimo', 4.5),\n",
       "             ('CakeAndCoffee', 4.2),\n",
       "             ('CakeOClock', 4.2),\n",
       "             ('CakeTime', 4.1),\n",
       "             ('Nice Cakes', 3.9),\n",
       "             ('Old Gold', 3.3),\n",
       "             ('Old Wine Cellar', 3.3),\n",
       "             ('Old York', 3.3)])"
      ]
     },
     "execution_count": 17,
     "metadata": {},
     "output_type": "execute_result"
    }
   ],
   "source": [
    "cafes = OrderedDict(sorted(ratings, key=lambda x: (-x[1], x[0])))\n",
    "\n",
    "cafes"
   ]
  }
 ],
 "metadata": {
  "kernelspec": {
   "display_name": ".venv",
   "language": "python",
   "name": "python3"
  },
  "language_info": {
   "codemirror_mode": {
    "name": "ipython",
    "version": 3
   },
   "file_extension": ".py",
   "mimetype": "text/x-python",
   "name": "python",
   "nbconvert_exporter": "python",
   "pygments_lexer": "ipython3",
   "version": "3.11.2"
  }
 },
 "nbformat": 4,
 "nbformat_minor": 2
}
