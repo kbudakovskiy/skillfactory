{
 "cells": [
  {
   "cell_type": "markdown",
   "metadata": {},
   "source": [
    "```\n",
    "tasks = [(36871, 'office', False),\n",
    "(40690, 'office', False),\n",
    "(35364, 'voltage', False),\n",
    "(41667, 'voltage', True),\n",
    "(33850, 'office', False)]\n",
    "\n",
    "print(task_manager(tasks))\n",
    "# defaultdict(, {'voltage': deque([41667, 35364]),\n",
    "# 'office': deque([36871, 40690, 33850])})\n",
    "```"
   ]
  },
  {
   "cell_type": "code",
   "execution_count": 12,
   "metadata": {},
   "outputs": [],
   "source": [
    "from collections import deque\n",
    "from collections import defaultdict"
   ]
  },
  {
   "cell_type": "code",
   "execution_count": null,
   "metadata": {},
   "outputs": [],
   "source": [
    "def task_manager(tasks) -> defaultdict:\n",
    "    def_dict = defaultdict(deque)    \n",
    "    for task, name, priority in tasks:\n",
    "        if priority:\n",
    "            def_dict[name].appendleft(task)\n",
    "        else:\n",
    "            def_dict[name].append(task)\n",
    "    return def_dict"
   ]
  },
  {
   "cell_type": "code",
   "execution_count": 26,
   "metadata": {},
   "outputs": [],
   "source": [
    "tasks = [(36871, 'office', False),\n",
    "(40690, 'office', False),\n",
    "(35364, 'voltage', False),\n",
    "(41667, 'voltage', True),\n",
    "(33850, 'office', False)]"
   ]
  },
  {
   "cell_type": "code",
   "execution_count": 27,
   "metadata": {},
   "outputs": [
    {
     "name": "stdout",
     "output_type": "stream",
     "text": [
      "<class 'collections.defaultdict'>\n"
     ]
    }
   ],
   "source": [
    "print(task_manager(tasks))"
   ]
  }
 ],
 "metadata": {
  "kernelspec": {
   "display_name": ".venv",
   "language": "python",
   "name": "python3"
  },
  "language_info": {
   "codemirror_mode": {
    "name": "ipython",
    "version": 3
   },
   "file_extension": ".py",
   "mimetype": "text/x-python",
   "name": "python",
   "nbconvert_exporter": "python",
   "pygments_lexer": "ipython3",
   "version": "3.11.2"
  }
 },
 "nbformat": 4,
 "nbformat_minor": 2
}
